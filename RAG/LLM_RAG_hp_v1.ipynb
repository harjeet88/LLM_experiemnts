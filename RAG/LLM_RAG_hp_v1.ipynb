{
  "nbformat": 4,
  "nbformat_minor": 0,
  "metadata": {
    "colab": {
      "provenance": [],
      "authorship_tag": "ABX9TyNfnf/VRH49kyYlEjbcKu2c",
      "include_colab_link": true
    },
    "kernelspec": {
      "name": "python3",
      "display_name": "Python 3"
    },
    "language_info": {
      "name": "python"
    }
  },
  "cells": [
    {
      "cell_type": "markdown",
      "metadata": {
        "id": "view-in-github",
        "colab_type": "text"
      },
      "source": [
        "<a href=\"https://colab.research.google.com/github/harjeet88/LLM_experiemnts/blob/main/RAG/LLM_RAG_hp_v1.ipynb\" target=\"_parent\"><img src=\"https://colab.research.google.com/assets/colab-badge.svg\" alt=\"Open In Colab\"/></a>"
      ]
    },
    {
      "cell_type": "code",
      "execution_count": 2,
      "metadata": {
        "id": "qNzSuveMupb-"
      },
      "outputs": [],
      "source": [
        "import sqlite3\n",
        "from sentence_transformers import SentenceTransformer, util\n",
        "from transformers import pipeline"
      ]
    },
    {
      "cell_type": "code",
      "source": [
        "# 1. Setup SQLite Database\n",
        "def setup_db(db_name=\"rag_db.sqlite\"):\n",
        "    conn = sqlite3.connect(db_name)\n",
        "    cursor = conn.cursor()\n",
        "    cursor.execute(\"\"\"\n",
        "        CREATE TABLE IF NOT EXISTS documents (\n",
        "            id INTEGER PRIMARY KEY AUTOINCREMENT,\n",
        "            content TEXT,\n",
        "            embedding BLOB\n",
        "        )\n",
        "    \"\"\")\n",
        "    conn.commit()\n",
        "    return conn"
      ],
      "metadata": {
        "colab": {
          "base_uri": "https://localhost:8080/"
        },
        "id": "tjy1-7fCuvSl",
        "outputId": "24d79862-d058-4407-f348-f34522ecc651"
      },
      "execution_count": null,
      "outputs": [
        {
          "output_type": "stream",
          "name": "stderr",
          "text": [
            "/usr/local/lib/python3.11/dist-packages/huggingface_hub/utils/_auth.py:94: UserWarning: \n",
            "The secret `HF_TOKEN` does not exist in your Colab secrets.\n",
            "To authenticate with the Hugging Face Hub, create a token in your settings tab (https://huggingface.co/settings/tokens), set it as secret in your Google Colab and restart your session.\n",
            "You will be able to reuse this secret in all of your notebooks.\n",
            "Please note that authentication is recommended but still optional to access public models or datasets.\n",
            "  warnings.warn(\n"
          ]
        }
      ]
    },
    {
      "cell_type": "code",
      "source": [
        "# 2. Embed Documents and Store in DB\n",
        "def embed_and_store(conn, documents, embedding_model):\n",
        "    cursor = conn.cursor()\n",
        "    for doc in documents:\n",
        "        embedding = embedding_model.encode(doc, convert_to_tensor=True).numpy().tobytes()\n",
        "        cursor.execute(\"INSERT INTO documents (content, embedding) VALUES (?, ?)\", (doc, embedding))\n",
        "    conn.commit()\n"
      ],
      "metadata": {
        "id": "iWVAr6DHLAWt",
        "outputId": "83975bb2-d167-4777-a6ed-402bbbf1d092",
        "colab": {
          "base_uri": "https://localhost:8080/"
        }
      },
      "execution_count": null,
      "outputs": [
        {
          "output_type": "stream",
          "name": "stderr",
          "text": [
            "Device set to use cpu\n"
          ]
        }
      ]
    },
    {
      "cell_type": "code",
      "source": [
        "# 3. Retrieve Relevant Documents\n",
        "def retrieve_documents(conn, query, embedding_model, top_k=3):\n",
        "    query_embedding = embedding_model.encode(query, convert_to_tensor=True)\n",
        "    cursor = conn.cursor()\n",
        "    cursor.execute(\"SELECT id, content, embedding FROM documents\")\n",
        "    rows = cursor.fetchall()\n",
        "    similarities = []\n",
        "    for row in rows:\n",
        "        doc_embedding = embedding_model.encode(row[1], convert_to_tensor=True) #using content to create embedding.\n",
        "        similarity = util.pytorch_cos_sim(query_embedding, doc_embedding).item()\n",
        "        similarities.append((similarity, row[1])) #store similarity and content.\n",
        "    similarities.sort(key=lambda x: x[0], reverse=True)\n",
        "    return [doc for _, doc in similarities[:top_k]]"
      ],
      "metadata": {
        "id": "JFa9KwuT_lKx"
      },
      "execution_count": null,
      "outputs": []
    },
    {
      "cell_type": "code",
      "source": [
        "# 4. Generate Answer with LLM\n",
        "def generate_answer(query, retrieved_documents, llm_model):\n",
        "    context = \"\\n\".join(retrieved_documents)\n",
        "    prompt = f\"Context:\\n{context}\\n\\nQuestion: {query}\\n\\nAnswer:\"\n",
        "    answer = llm_model(prompt)[0]['generated_text']\n",
        "    return answer"
      ],
      "metadata": {
        "id": "RcY04vOe_o1R"
      },
      "execution_count": null,
      "outputs": []
    },
    {
      "cell_type": "code",
      "source": [
        "# Main Execution\n",
        "def rag_pipeline(query, documents, embedding_model_name=\"all-mpnet-base-v2\", llm_model_name=\"google/flan-t5-xxl\"):\n",
        "    conn = setup_db()\n",
        "    embedding_model = SentenceTransformer(embedding_model_name)\n",
        "    embed_and_store(conn, documents, embedding_model)\n",
        "    retrieved_docs = retrieve_documents(conn, query, embedding_model)\n",
        "    llm_model = pipeline(\"text2text-generation\", model=llm_model_name)\n",
        "    answer = generate_answer(query, retrieved_docs, llm_model)\n",
        "    conn.close()\n",
        "    return answer"
      ],
      "metadata": {
        "id": "caj4eQyBxli4"
      },
      "execution_count": null,
      "outputs": []
    },
    {
      "cell_type": "code",
      "source": [
        "# Example Usage\n",
        "documents = [\n",
        "    \"The capital of France is Paris.\",\n",
        "    \"The Eiffel Tower is in Paris.\",\n",
        "    \"London is the capital of England.\",\n",
        "    \"Dogs are loyal animals.\",\n",
        "    \"Cats are independent animals.\"\n",
        "]"
      ],
      "metadata": {
        "id": "gWw3es5eu7__"
      },
      "execution_count": null,
      "outputs": []
    },
    {
      "cell_type": "code",
      "source": [
        "query = \"Where is the Eiffel Tower?\"\n",
        "answer = rag_pipeline(query, documents)\n",
        "print(answer)"
      ],
      "metadata": {
        "id": "NnQhIlRdxQ-K"
      },
      "execution_count": null,
      "outputs": []
    },
    {
      "cell_type": "code",
      "source": [],
      "metadata": {
        "id": "vRfHfHH3-9T9"
      },
      "execution_count": null,
      "outputs": []
    }
  ]
}