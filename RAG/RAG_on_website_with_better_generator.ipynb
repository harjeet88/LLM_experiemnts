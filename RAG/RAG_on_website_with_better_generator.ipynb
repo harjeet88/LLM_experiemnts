{
  "nbformat": 4,
  "nbformat_minor": 0,
  "metadata": {
    "colab": {
      "provenance": [],
      "authorship_tag": "ABX9TyPcK/L4oNfeb6YLLythKeAb",
      "include_colab_link": true
    },
    "kernelspec": {
      "name": "python3",
      "display_name": "Python 3"
    },
    "language_info": {
      "name": "python"
    }
  },
  "cells": [
    {
      "cell_type": "markdown",
      "metadata": {
        "id": "view-in-github",
        "colab_type": "text"
      },
      "source": [
        "<a href=\"https://colab.research.google.com/github/harjeet88/LLM_experiemnts/blob/main/RAG/RAG_on_website_with_better_generator.ipynb\" target=\"_parent\"><img src=\"https://colab.research.google.com/assets/colab-badge.svg\" alt=\"Open In Colab\"/></a>"
      ]
    },
    {
      "cell_type": "code",
      "execution_count": 47,
      "metadata": {
        "id": "qNzSuveMupb-"
      },
      "outputs": [],
      "source": [
        "import sqlite3\n",
        "import numpy as np\n",
        "import torch\n",
        "from transformers import AutoTokenizer, AutoModel, pipeline\n",
        "from bs4 import BeautifulSoup\n",
        "import requests"
      ]
    },
    {
      "cell_type": "code",
      "source": [
        "# Define the model and tokenizer\n",
        "model_name = \"sentence-transformers/all-mpnet-base-v2\"\n",
        "tokenizer = AutoTokenizer.from_pretrained(model_name)\n",
        "model = AutoModel.from_pretrained(model_name)"
      ],
      "metadata": {
        "id": "tjy1-7fCuvSl"
      },
      "execution_count": 48,
      "outputs": []
    },
    {
      "cell_type": "code",
      "source": [
        "# Setting up SQLite connection\n",
        "conn = sqlite3.connect('rag_website_example.db')\n",
        "cur = conn.cursor()"
      ],
      "metadata": {
        "id": "JFa9KwuT_lKx"
      },
      "execution_count": 49,
      "outputs": []
    },
    {
      "cell_type": "code",
      "source": [
        "# Create table for storing documents and their embeddings\n",
        "cur.execute(\"\"\"\n",
        "CREATE TABLE IF NOT EXISTS documents (\n",
        "    id INTEGER PRIMARY KEY AUTOINCREMENT,\n",
        "    content TEXT,\n",
        "    embedding BLOB\n",
        ");\n",
        "\"\"\")\n",
        "conn.commit()"
      ],
      "metadata": {
        "id": "RcY04vOe_o1R"
      },
      "execution_count": 50,
      "outputs": []
    },
    {
      "cell_type": "code",
      "source": [
        "# Function to compute embeddings\n",
        "def compute_embedding(text):\n",
        "    inputs = tokenizer(text, return_tensors='pt', truncation=True, padding=True)\n",
        "    with torch.no_grad():\n",
        "        outputs = model(**inputs)\n",
        "    return outputs.last_hidden_state.mean(dim=1).numpy()  # Use mean pooling to get a fixed-size embedding"
      ],
      "metadata": {
        "id": "caj4eQyBxli4"
      },
      "execution_count": 51,
      "outputs": []
    },
    {
      "cell_type": "code",
      "source": [
        "# Function to scrape text content from a website\n",
        "def scrape_website(url):\n",
        "    response = requests.get(url)\n",
        "    soup = BeautifulSoup(response.content, 'html.parser')\n",
        "    paragraphs = soup.find_all('p')\n",
        "    return \"\\n\".join([para.get_text() for para in paragraphs])\n",
        "\n",
        "# Function to insert document into the database\n",
        "def insert_document(content):\n",
        "    embedding = compute_embedding(content).tobytes()  # Convert numpy array to bytes\n",
        "    cur.execute(\"INSERT INTO documents (content, embedding) VALUES (?, ?)\", (content, embedding))\n",
        "    conn.commit()"
      ],
      "metadata": {
        "id": "gWw3es5eu7__"
      },
      "execution_count": 52,
      "outputs": []
    },
    {
      "cell_type": "code",
      "source": [
        "# Function to retrieve documents based on query\n",
        "def retrieve_documents(query, top_k=3):\n",
        "    query_embedding = compute_embedding(query)\n",
        "    cur.execute(\"SELECT content, embedding FROM documents\")\n",
        "    rows = cur.fetchall()\n",
        "\n",
        "    # Compute cosine similarity between query embedding and document embeddings\n",
        "    similarities = []\n",
        "    for content, embedding in rows:\n",
        "        doc_embedding = np.frombuffer(embedding, dtype=np.float32)\n",
        "        similarity = np.dot(query_embedding, doc_embedding) / (np.linalg.norm(query_embedding) * np.linalg.norm(doc_embedding))\n",
        "        similarities.append((content, similarity))\n",
        "\n",
        "    # Sort by similarity and return top_k results\n",
        "    similarities.sort(key=lambda x: x[1], reverse=True)\n",
        "    return [content for content, _ in similarities[:top_k]]"
      ],
      "metadata": {
        "id": "NnQhIlRdxQ-K"
      },
      "execution_count": 53,
      "outputs": []
    },
    {
      "cell_type": "code",
      "source": [
        "# Function to generate a response\n",
        "def generate_response(query):\n",
        "    retrieved_docs = retrieve_documents(query)\n",
        "    combined_text = \" \".join(retrieved_docs)\n",
        "    # Truncate the combined text to fit within gpt2's context window\n",
        "    max_length = 1024\n",
        "    combined_text = combined_text[:max_length]\n",
        "    generator = pipeline(\"text-generation\", model=\"gpt2\")\n",
        "    response = generator(f\"Query: {query}\\nDocuments: {combined_text}\\nAnswer:\", max_new_tokens=200)\n",
        "    return response[0]['generated_text']"
      ],
      "metadata": {
        "id": "Ys0AbROwAheF"
      },
      "execution_count": 62,
      "outputs": []
    },
    {
      "cell_type": "code",
      "source": [
        "# Example website URL\n",
        "url = \"https://en.wikipedia.org/wiki/Harry_Potter\"\n",
        "content = scrape_website(url)\n",
        "insert_document(content)\n",
        "\n",
        "# Example query\n",
        "query = \"Tell me about the content on the website.\"\n",
        "response = generate_response(query)\n",
        "print(response)"
      ],
      "metadata": {
        "id": "mSehuY86-hgr",
        "colab": {
          "base_uri": "https://localhost:8080/"
        },
        "outputId": "0d85fec5-1a33-405a-dc1c-49ccf3ad2caf"
      },
      "execution_count": 63,
      "outputs": [
        {
          "output_type": "stream",
          "name": "stderr",
          "text": [
            "Device set to use cpu\n",
            "Setting `pad_token_id` to `eos_token_id`:50256 for open-end generation.\n"
          ]
        },
        {
          "output_type": "stream",
          "name": "stdout",
          "text": [
            "Query: Tell me about the content on the website.\n",
            "Documents: \n",
            "\n",
            "Harry Potter is a series of seven fantasy novels written by British author J. K. Rowling. The novels chronicle the lives of a young wizard, Harry Potter, and his friends, Hermione Granger and Ron Weasley, all of whom are students at Hogwarts School of Witchcraft and Wizardry. The main story arc concerns Harry's conflict with Lord Voldemort, a dark wizard who intends to become immortal, overthrow the wizard governing body known as the Ministry of Magic, and subjugate all wizards and Muggles (non-magical people).\n",
            "\n",
            "The series was originally published in English by Bloomsbury in the United Kingdom and Scholastic Press in the United States.  A series of many genres, including fantasy, drama, coming-of-age fiction, and the British school story (which includes elements of mystery, thriller, adventure, horror, and romance), the world of Harry Potter explores numerous themes and includes many cultural meanings and references.[1] Major themes in the series include prejudice, corruption, madness, love, and death.[2]\n",
            "\n",
            "\n",
            "Answer: A young wizard has found his way into a powerful wizard world, who in its turn turns out to be a powerful woman. This world is one of immortality, immortality by the power of magic.\n",
            "\n",
            "\" The world may appear to be vast and far beyond the reach of many things.\" —J. K. Rowling\n",
            "\n",
            "The book is set in 1837, and is based on early 1825 science fiction, romance, and fiction.\n",
            "\n",
            "\n",
            "Question: In your review, you mention that Harry Potter fans will be pleased to know that the first part of the book has not only been published in its entirety through Amazon's UK retail portal; but that it will also be included on an e-book in the coming months. How do you feel about the addition of a second part of Potter to the collection in the future?\n",
            "\n",
            "Harry is a very important character. After a long period of the series and the death of Lord Voldemort, and because the second part has not been part of\n"
          ]
        }
      ]
    },
    {
      "cell_type": "code",
      "source": [
        "\n",
        "# Close the database connection\n",
        "cur.close()\n",
        "conn.close()"
      ],
      "metadata": {
        "id": "hZB5hnzk-rBV"
      },
      "execution_count": null,
      "outputs": []
    },
    {
      "cell_type": "code",
      "source": [],
      "metadata": {
        "id": "vRfHfHH3-9T9"
      },
      "execution_count": null,
      "outputs": []
    }
  ]
}