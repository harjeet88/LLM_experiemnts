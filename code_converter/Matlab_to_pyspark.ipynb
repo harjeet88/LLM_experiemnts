{
  "nbformat": 4,
  "nbformat_minor": 0,
  "metadata": {
    "colab": {
      "provenance": [],
      "authorship_tag": "ABX9TyMJ9YlQ9oYxSIayYSVXSsSi",
      "include_colab_link": true
    },
    "kernelspec": {
      "name": "python3",
      "display_name": "Python 3"
    },
    "language_info": {
      "name": "python"
    }
  },
  "cells": [
    {
      "cell_type": "markdown",
      "metadata": {
        "id": "view-in-github",
        "colab_type": "text"
      },
      "source": [
        "<a href=\"https://colab.research.google.com/github/harjeet88/LLM_experiemnts/blob/main/code_converter/Matlab_to_pyspark.ipynb\" target=\"_parent\"><img src=\"https://colab.research.google.com/assets/colab-badge.svg\" alt=\"Open In Colab\"/></a>"
      ]
    },
    {
      "cell_type": "code",
      "execution_count": 1,
      "metadata": {
        "id": "mcsp5wKJFpmP"
      },
      "outputs": [],
      "source": [
        "import os\n",
        "from google.colab import drive\n",
        "\n",
        "\n"
      ]
    },
    {
      "cell_type": "code",
      "source": [
        "# Mount Google Drive\n",
        "drive.mount('/content/drive')\n",
        "\n"
      ],
      "metadata": {
        "colab": {
          "base_uri": "https://localhost:8080/"
        },
        "id": "IwRKxwG1F6wJ",
        "outputId": "f3a4d21a-76b6-46e1-9ada-5a69b49595f2"
      },
      "execution_count": 2,
      "outputs": [
        {
          "output_type": "stream",
          "name": "stdout",
          "text": [
            "Mounted at /content/drive\n"
          ]
        }
      ]
    },
    {
      "cell_type": "code",
      "source": [
        "# Specify the GitHub repository URL and the destination directory in Google Drive\n",
        "repo_url = \"https://github.com/FNNDSC/matlab.git\"  # Replace with your repo URL\n",
        "drive_path = \"/content/drive/My Drive/github_projects/matlab_sample\"  # Replace with your desired path\n",
        "\n"
      ],
      "metadata": {
        "id": "TNHin_jFF8dY"
      },
      "execution_count": 6,
      "outputs": []
    },
    {
      "cell_type": "code",
      "source": [
        "# Create the destination directory if it doesn't exist\n",
        "if not os.path.exists(drive_path):\n",
        "    os.makedirs(drive_path)\n",
        "\n"
      ],
      "metadata": {
        "id": "A1vvCdkEGBl8"
      },
      "execution_count": 7,
      "outputs": []
    },
    {
      "cell_type": "code",
      "source": [
        "# Clone the repository to the specified directory\n",
        "%cd \"{drive_path}\"\n",
        "!git clone \"{repo_url}\""
      ],
      "metadata": {
        "colab": {
          "base_uri": "https://localhost:8080/"
        },
        "id": "FTft_ixiGDsr",
        "outputId": "f81ca209-231d-4f84-8c95-f4f4b890e95d"
      },
      "execution_count": 8,
      "outputs": [
        {
          "output_type": "stream",
          "name": "stdout",
          "text": [
            "/content/drive/My Drive/github_projects/matlab_sample\n",
            "Cloning into 'matlab'...\n",
            "remote: Enumerating objects: 1159, done.\u001b[K\n",
            "remote: Total 1159 (delta 0), reused 0 (delta 0), pack-reused 1159 (from 1)\u001b[K\n",
            "Receiving objects: 100% (1159/1159), 12.59 MiB | 9.65 MiB/s, done.\n",
            "Resolving deltas: 100% (511/511), done.\n",
            "Updating files: 100% (892/892), done.\n"
          ]
        }
      ]
    },
    {
      "cell_type": "code",
      "source": [
        "import os\n",
        "import subprocess\n",
        "\n",
        "# Assuming you have already mounted Google Drive and cloned the repository as shown in the previous code.\n",
        "\n",
        "# Specify the directory containing the MATLAB files\n",
        "matlab_dir = \"/content/drive/My Drive/github_projects/matlab_sample/matlab\"  # Update with the correct path\n",
        "\n",
        "# Install necessary libraries (if not already installed)\n",
        "!pip install google-api-python-client\n",
        "\n",
        "# Function to convert MATLAB code to PySpark using Gemini API\n",
        "def convert_matlab_to_pyspark(matlab_code):\n",
        "    # Placeholder for Gemini API call\n",
        "    # Replace this with actual API call to Gemini\n",
        "    # Include appropriate parameters for the Gemini API request\n",
        "    pyspark_code =  \"##PySpark Code placeholder, replace using Gemini LLM API\" # Placeholder for the converted code\n",
        "    return pyspark_code\n",
        "\n",
        "# Loop through each MATLAB file in the directory\n",
        "for filename in os.listdir(matlab_dir):\n",
        "    if filename.endswith(\".m\"):\n",
        "        filepath = os.path.join(matlab_dir, filename)\n",
        "\n",
        "        # Read the MATLAB code from the file\n",
        "        try:\n",
        "          with open(filepath, \"r\") as f:\n",
        "              matlab_code = f.read()\n",
        "\n",
        "          # Convert the MATLAB code to PySpark code using the Gemini API function\n",
        "          pyspark_code = convert_matlab_to_pyspark(matlab_code)\n",
        "\n",
        "          # Save the converted PySpark code to a new file (e.g., with a .py extension)\n",
        "          pyspark_filepath = os.path.join(matlab_dir, filename[:-2] + \".py\")\n",
        "          with open(pyspark_filepath, \"w\") as f:\n",
        "              f.write(pyspark_code)\n",
        "\n",
        "          print(f\"Converted '{filename}' to '{filename[:-2] + '.py'}'\")\n",
        "\n",
        "        except Exception as e:\n",
        "            print(f\"Error processing '{filename}': {e}\")\n"
      ],
      "metadata": {
        "id": "OTz0_Bq8HM9G"
      },
      "execution_count": null,
      "outputs": []
    },
    {
      "cell_type": "code",
      "source": [
        "\n",
        "matlab_code = \"\"\"\n",
        "% Example MATLAB code\n",
        "a = 10;\n",
        "b = 5;\n",
        "c = a + b;\n",
        "disp(c);\n",
        "\"\"\"\n"
      ],
      "metadata": {
        "id": "TdK3ttstIBMv"
      },
      "execution_count": null,
      "outputs": []
    },
    {
      "cell_type": "code",
      "source": [
        "# Install necessary libraries (if not already installed)\n",
        "!pip install google-api-python-client google-generativeai\n",
        "\n"
      ],
      "metadata": {
        "colab": {
          "base_uri": "https://localhost:8080/"
        },
        "id": "YEAo5No2J34p",
        "outputId": "cfa17a3c-2872-43ac-d5c6-97bb48d01eb4"
      },
      "execution_count": 9,
      "outputs": [
        {
          "output_type": "stream",
          "name": "stdout",
          "text": [
            "Requirement already satisfied: google-api-python-client in /usr/local/lib/python3.11/dist-packages (2.164.0)\n",
            "Requirement already satisfied: google-generativeai in /usr/local/lib/python3.11/dist-packages (0.8.4)\n",
            "Requirement already satisfied: httplib2<1.dev0,>=0.19.0 in /usr/local/lib/python3.11/dist-packages (from google-api-python-client) (0.22.0)\n",
            "Requirement already satisfied: google-auth!=2.24.0,!=2.25.0,<3.0.0.dev0,>=1.32.0 in /usr/local/lib/python3.11/dist-packages (from google-api-python-client) (2.38.0)\n",
            "Requirement already satisfied: google-auth-httplib2<1.0.0,>=0.2.0 in /usr/local/lib/python3.11/dist-packages (from google-api-python-client) (0.2.0)\n",
            "Requirement already satisfied: google-api-core!=2.0.*,!=2.1.*,!=2.2.*,!=2.3.0,<3.0.0.dev0,>=1.31.5 in /usr/local/lib/python3.11/dist-packages (from google-api-python-client) (2.24.2)\n",
            "Requirement already satisfied: uritemplate<5,>=3.0.1 in /usr/local/lib/python3.11/dist-packages (from google-api-python-client) (4.1.1)\n",
            "Requirement already satisfied: google-ai-generativelanguage==0.6.15 in /usr/local/lib/python3.11/dist-packages (from google-generativeai) (0.6.15)\n",
            "Requirement already satisfied: protobuf in /usr/local/lib/python3.11/dist-packages (from google-generativeai) (5.29.4)\n",
            "Requirement already satisfied: pydantic in /usr/local/lib/python3.11/dist-packages (from google-generativeai) (2.11.3)\n",
            "Requirement already satisfied: tqdm in /usr/local/lib/python3.11/dist-packages (from google-generativeai) (4.67.1)\n",
            "Requirement already satisfied: typing-extensions in /usr/local/lib/python3.11/dist-packages (from google-generativeai) (4.13.1)\n",
            "Requirement already satisfied: proto-plus<2.0.0dev,>=1.22.3 in /usr/local/lib/python3.11/dist-packages (from google-ai-generativelanguage==0.6.15->google-generativeai) (1.26.1)\n",
            "Requirement already satisfied: googleapis-common-protos<2.0.0,>=1.56.2 in /usr/local/lib/python3.11/dist-packages (from google-api-core!=2.0.*,!=2.1.*,!=2.2.*,!=2.3.0,<3.0.0.dev0,>=1.31.5->google-api-python-client) (1.69.2)\n",
            "Requirement already satisfied: requests<3.0.0,>=2.18.0 in /usr/local/lib/python3.11/dist-packages (from google-api-core!=2.0.*,!=2.1.*,!=2.2.*,!=2.3.0,<3.0.0.dev0,>=1.31.5->google-api-python-client) (2.32.3)\n",
            "Requirement already satisfied: cachetools<6.0,>=2.0.0 in /usr/local/lib/python3.11/dist-packages (from google-auth!=2.24.0,!=2.25.0,<3.0.0.dev0,>=1.32.0->google-api-python-client) (5.5.2)\n",
            "Requirement already satisfied: pyasn1-modules>=0.2.1 in /usr/local/lib/python3.11/dist-packages (from google-auth!=2.24.0,!=2.25.0,<3.0.0.dev0,>=1.32.0->google-api-python-client) (0.4.2)\n",
            "Requirement already satisfied: rsa<5,>=3.1.4 in /usr/local/lib/python3.11/dist-packages (from google-auth!=2.24.0,!=2.25.0,<3.0.0.dev0,>=1.32.0->google-api-python-client) (4.9)\n",
            "Requirement already satisfied: pyparsing!=3.0.0,!=3.0.1,!=3.0.2,!=3.0.3,<4,>=2.4.2 in /usr/local/lib/python3.11/dist-packages (from httplib2<1.dev0,>=0.19.0->google-api-python-client) (3.2.3)\n",
            "Requirement already satisfied: annotated-types>=0.6.0 in /usr/local/lib/python3.11/dist-packages (from pydantic->google-generativeai) (0.7.0)\n",
            "Requirement already satisfied: pydantic-core==2.33.1 in /usr/local/lib/python3.11/dist-packages (from pydantic->google-generativeai) (2.33.1)\n",
            "Requirement already satisfied: typing-inspection>=0.4.0 in /usr/local/lib/python3.11/dist-packages (from pydantic->google-generativeai) (0.4.0)\n",
            "Requirement already satisfied: grpcio<2.0dev,>=1.33.2 in /usr/local/lib/python3.11/dist-packages (from google-api-core[grpc]!=2.0.*,!=2.1.*,!=2.10.*,!=2.2.*,!=2.3.*,!=2.4.*,!=2.5.*,!=2.6.*,!=2.7.*,!=2.8.*,!=2.9.*,<3.0.0dev,>=1.34.1->google-ai-generativelanguage==0.6.15->google-generativeai) (1.71.0)\n",
            "Requirement already satisfied: grpcio-status<2.0.dev0,>=1.33.2 in /usr/local/lib/python3.11/dist-packages (from google-api-core[grpc]!=2.0.*,!=2.1.*,!=2.10.*,!=2.2.*,!=2.3.*,!=2.4.*,!=2.5.*,!=2.6.*,!=2.7.*,!=2.8.*,!=2.9.*,<3.0.0dev,>=1.34.1->google-ai-generativelanguage==0.6.15->google-generativeai) (1.71.0)\n",
            "Requirement already satisfied: pyasn1<0.7.0,>=0.6.1 in /usr/local/lib/python3.11/dist-packages (from pyasn1-modules>=0.2.1->google-auth!=2.24.0,!=2.25.0,<3.0.0.dev0,>=1.32.0->google-api-python-client) (0.6.1)\n",
            "Requirement already satisfied: charset-normalizer<4,>=2 in /usr/local/lib/python3.11/dist-packages (from requests<3.0.0,>=2.18.0->google-api-core!=2.0.*,!=2.1.*,!=2.2.*,!=2.3.0,<3.0.0.dev0,>=1.31.5->google-api-python-client) (3.4.1)\n",
            "Requirement already satisfied: idna<4,>=2.5 in /usr/local/lib/python3.11/dist-packages (from requests<3.0.0,>=2.18.0->google-api-core!=2.0.*,!=2.1.*,!=2.2.*,!=2.3.0,<3.0.0.dev0,>=1.31.5->google-api-python-client) (3.10)\n",
            "Requirement already satisfied: urllib3<3,>=1.21.1 in /usr/local/lib/python3.11/dist-packages (from requests<3.0.0,>=2.18.0->google-api-core!=2.0.*,!=2.1.*,!=2.2.*,!=2.3.0,<3.0.0.dev0,>=1.31.5->google-api-python-client) (2.3.0)\n",
            "Requirement already satisfied: certifi>=2017.4.17 in /usr/local/lib/python3.11/dist-packages (from requests<3.0.0,>=2.18.0->google-api-core!=2.0.*,!=2.1.*,!=2.2.*,!=2.3.0,<3.0.0.dev0,>=1.31.5->google-api-python-client) (2025.1.31)\n"
          ]
        }
      ]
    },
    {
      "cell_type": "code",
      "source": [
        "# Import the palm module\n",
        "import google.generativeai as palm"
      ],
      "metadata": {
        "id": "Ia-tF0w0KOW-"
      },
      "execution_count": 11,
      "outputs": []
    },
    {
      "cell_type": "code",
      "source": [
        "# Configure Gemini API key\n",
        "palm.configure(api_key=\"YOUR_API_KEY\") #Replace with your actual API key"
      ],
      "metadata": {
        "id": "rT9W5Ns_J5d9"
      },
      "execution_count": 12,
      "outputs": []
    },
    {
      "cell_type": "code",
      "source": [
        "# Function to convert MATLAB code to PySpark using Gemini API\n",
        "def convert_matlab_to_pyspark(matlab_code):\n",
        "    try:\n",
        "        response = palm.generate_text(\n",
        "            model=\"models/text-bison-001\",  # Use the appropriate Gemini model\n",
        "            prompt=f\"Convert the following MATLAB code to PySpark:\\n\\n{matlab_code}\",\n",
        "            temperature=0.2,  # Adjust temperature as needed\n",
        "            max_output_tokens=512  # Adjust max tokens as needed\n",
        "        )\n",
        "        pyspark_code = response.result\n",
        "        return pyspark_code\n",
        "    except Exception as e:\n",
        "        print(f\"Error calling Gemini API: {e}\")\n",
        "        return \"## Error converting code. Check API key and connection.\"\n"
      ],
      "metadata": {
        "id": "RnDQIp0JJzad"
      },
      "execution_count": null,
      "outputs": []
    },
    {
      "cell_type": "code",
      "source": [
        "\n",
        "import os\n",
        "from google.colab import drive\n",
        "import subprocess\n",
        "import google.generativeai as palm\n",
        "\n",
        "\n",
        "# Mount Google Drive\n",
        "drive.mount('/content/drive')\n",
        "\n",
        "\n",
        "# Specify the GitHub repository URL and the destination directory in Google Drive\n",
        "repo_url = \"https://github.com/FNNDSC/matlab.git\"  # Replace with your repo URL\n",
        "drive_path = \"/content/drive/My Drive/github_projects/matlab_sample\"  # Replace with your desired path\n",
        "\n",
        "\n",
        "# Create the destination directory if it doesn't exist\n",
        "if not os.path.exists(drive_path):\n",
        "    os.makedirs(drive_path)\n",
        "\n",
        "\n",
        "# Clone the repository to the specified directory\n",
        "%cd \"{drive_path}\"\n",
        "!git clone \"{repo_url}\"\n",
        "\n",
        "\n",
        "# Assuming you have already mounted Google Drive and cloned the repository as shown in the previous code.\n",
        "\n",
        "# Specify the directory containing the MATLAB files\n",
        "matlab_dir = \"/content/drive/My Drive/github_projects/matlab_sample/matlab\"  # Update with the correct path\n",
        "\n",
        "# Install necessary libraries (if not already installed)\n",
        "!pip install google-api-python-client google-generativeai\n",
        "\n",
        "# Configure Gemini API key\n",
        "palm.configure(api_key=\"YOUR_API_KEY\") #Replace with your actual API key\n",
        "\n",
        "\n",
        "# Function to convert MATLAB code to PySpark using Gemini API\n",
        "def convert_matlab_to_pyspark(matlab_code):\n",
        "    try:\n",
        "        response = palm.generate_text(\n",
        "            model=\"models/text-bison-001\",  # Use the appropriate Gemini model\n",
        "            prompt=f\"Convert the following MATLAB code to PySpark:\\n\\n{matlab_code}\",\n",
        "            temperature=0.2,  # Adjust temperature as needed\n",
        "            max_output_tokens=512  # Adjust max tokens as needed\n",
        "        )\n",
        "        pyspark_code = response.result\n",
        "        return pyspark_code\n",
        "    except Exception as e:\n",
        "        print(f\"Error calling Gemini API: {e}\")\n",
        "        return \"## Error converting code. Check API key and connection.\"\n",
        "\n",
        "\n",
        "\n",
        "# Loop through each MATLAB file in the directory\n",
        "for filename in os.listdir(matlab_dir):\n",
        "    if filename.endswith(\".m\"):\n",
        "        filepath = os.path.join(matlab_dir, filename)\n",
        "\n",
        "        # Read the MATLAB code from the file\n",
        "        try:\n",
        "          with open(filepath, \"r\") as f:\n",
        "              matlab_code = f.read()\n",
        "\n",
        "          # Convert the MATLAB code to PySpark code using the Gemini API function\n",
        "          pyspark_code = convert_matlab_to_pyspark(matlab_code)\n",
        "\n",
        "          # Save the converted PySpark code to a new file (e.g., with a .py extension)\n",
        "          pyspark_filepath = os.path.join(matlab_dir, filename[:-2] + \".py\")\n",
        "          with open(pyspark_filepath, \"w\") as f:\n",
        "              f.write(pyspark_code)\n",
        "\n",
        "          print(f\"Converted '{filename}' to '{filename[:-2] + '.py'}'\")\n",
        "\n",
        "        except Exception as e:\n",
        "            print(f\"Error processing '{filename}': {e}\")\n",
        "\n",
        "\n",
        "matlab_code = \"\"\"\n",
        "% Example MATLAB code\n",
        "a = 10;\n",
        "b = 5;\n",
        "c = a + b;\n",
        "disp(c);\n",
        "\"\"\"\n",
        "\n",
        "pyspark_code = convert_matlab_to_pyspark(matlab_code)\n",
        "pyspark_code\n"
      ],
      "metadata": {
        "id": "Lp_edXs-IHJs"
      },
      "execution_count": null,
      "outputs": []
    }
  ]
}